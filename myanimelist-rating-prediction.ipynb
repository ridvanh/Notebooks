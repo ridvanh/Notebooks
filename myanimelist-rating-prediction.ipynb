{
 "metadata": {
  "kernelspec": {
   "language": "python",
   "display_name": "Python 3",
   "name": "python3"
  },
  "language_info": {
   "name": "python",
   "version": "3.10.12",
   "mimetype": "text/x-python",
   "codemirror_mode": {
    "name": "ipython",
    "version": 3
   },
   "pygments_lexer": "ipython3",
   "nbconvert_exporter": "python",
   "file_extension": ".py"
  },
  "kaggle": {
   "accelerator": "none",
   "dataSources": [
    {
     "sourceId": 6161570,
     "sourceType": "datasetVersion",
     "datasetId": 3534822
    }
   ],
   "dockerImageVersionId": 30527,
   "isInternetEnabled": true,
   "language": "python",
   "sourceType": "notebook",
   "isGpuEnabled": false
  }
 },
 "nbformat_minor": 4,
 "nbformat": 4,
 "cells": [
  {
   "cell_type": "code",
   "source": [
    "# This Python 3 environment comes with many helpful analytics libraries installed\n",
    "# It is defined by the kaggle/python Docker image: https://github.com/kaggle/docker-python\n",
    "# For example, here's several helpful packages to load\n",
    "\n",
    "import numpy as np # linear algebra\n",
    "import pandas as pd # data processing, CSV file I/O (e.g. pd.read_csv)\n",
    "\n",
    "# Input data files are available in the read-only \"../input/\" directory\n",
    "# For example, running this (by clicking run or pressing Shift+Enter) will list all files under the input directory\n",
    "\n",
    "import os\n",
    "for dirname, _, filenames in os.walk('/kaggle/input'):\n",
    "    for filename in filenames:\n",
    "        print(os.path.join(dirname, filename))\n",
    "\n",
    "# You can write up to 20GB to the current directory (/kaggle/working/) that gets preserved as output when you create a version using \"Save & Run All\" \n",
    "# You can also write temporary files to /kaggle/temp/, but they won't be saved outside of the current session"
   ],
   "metadata": {
    "_uuid": "8f2839f25d086af736a60e9eeb907d3b93b6e0e5",
    "_cell_guid": "b1076dfc-b9ad-4769-8c92-a6c4dae69d19",
    "execution": {
     "iopub.status.busy": "2023-07-31T08:01:28.938432Z",
     "iopub.execute_input": "2023-07-31T08:01:28.939122Z",
     "iopub.status.idle": "2023-07-31T08:01:28.975612Z",
     "shell.execute_reply.started": "2023-07-31T08:01:28.939082Z",
     "shell.execute_reply": "2023-07-31T08:01:28.974773Z"
    },
    "trusted": true
   },
   "execution_count": 1,
   "outputs": [
    {
     "name": "stdout",
     "text": "/kaggle/input/all-animes-in-mal/mal_anime.csv\n",
     "output_type": "stream"
    }
   ]
  },
  {
   "cell_type": "code",
   "source": [
    "df = pd.read_csv('/kaggle/input/all-animes-in-mal/mal_anime.csv')"
   ],
   "metadata": {
    "execution": {
     "iopub.status.busy": "2023-07-31T08:01:28.977468Z",
     "iopub.execute_input": "2023-07-31T08:01:28.978356Z",
     "iopub.status.idle": "2023-07-31T08:01:29.472854Z",
     "shell.execute_reply.started": "2023-07-31T08:01:28.978322Z",
     "shell.execute_reply": "2023-07-31T08:01:29.471941Z"
    },
    "trusted": true
   },
   "execution_count": 2,
   "outputs": []
  },
  {
   "cell_type": "code",
   "source": [
    "df.head()"
   ],
   "metadata": {
    "execution": {
     "iopub.status.busy": "2023-07-31T08:01:29.474149Z",
     "iopub.execute_input": "2023-07-31T08:01:29.474487Z",
     "iopub.status.idle": "2023-07-31T08:01:29.508259Z",
     "shell.execute_reply.started": "2023-07-31T08:01:29.474457Z",
     "shell.execute_reply": "2023-07-31T08:01:29.507122Z"
    },
    "trusted": true
   },
   "execution_count": 3,
   "outputs": [
    {
     "execution_count": 3,
     "output_type": "execute_result",
     "data": {
      "text/plain": "   Unnamed: 0                                       title episodes  \\\n0           0            Fullmetal Alchemist: Brotherhood       64   \n1           1                                 Steins;Gate       24   \n2           2                   Bleach: Sennen Kessen-hen       13   \n3           3                                    Gintama°       51   \n4           4  Kaguya-sama wa Kokurasetai: Ultra Romantic       13   \n\n            status     theme demographic                           genres  \\\n0  Finished Airing  Military     Shounen  Action,Adventure,Drama,Fantasy,   \n1  Finished Airing   Unknown     Unknown           Drama,Sci-Fi,Suspense,   \n2  Finished Airing   Unknown     Shounen        Action,Adventure,Fantasy,   \n3  Finished Airing   Unknown     Shounen            Action,Comedy,Sci-Fi,   \n4  Finished Airing    School      Seinen                  Comedy,Romance,   \n\n  type favorites popularity rank  score    members  \\\n0   TV   218,277         #3   #1   9.10  3,190,961   \n1   TV   183,596        #13   #2   9.07  2,452,142   \n2   TV    18,421       #458   #3   9.06    455,428   \n3   TV    16,042       #332   #4   9.06    599,235   \n4   TV    29,397       #193   #5   9.05    832,346   \n\n                                            synopsis  \\\n0  After a horrific alchemy experiment goes wrong...   \n1  Eccentric scientist Rintarou Okabe has a never...   \n2  Substitute Soul Reaper Ichigo Kurosaki spends ...   \n3  Gintoki, Shinpachi, and Kagura return as the f...   \n4  The elite members of Shuchiin Academy's studen...   \n\n                          aired         duration    premiered  \\\n0    Apr 5, 2009 to Jul 4, 2010  24 min. per ep.  Spring 2009   \n1   Apr 6, 2011 to Sep 14, 2011  24 min. per ep.  Spring 2011   \n2  Oct 11, 2022 to Dec 27, 2022  24 min. per ep.    Fall 2022   \n3   Apr 8, 2015 to Mar 30, 2016  24 min. per ep.  Spring 2015   \n4   Apr 9, 2022 to Jun 25, 2022  23 min. per ep.  Spring 2022   \n\n                 studios  \n0                  Bones  \n1              White Fox  \n2                Pierrot  \n3  Bandai Namco Pictures  \n4           A-1 Pictures  ",
      "text/html": "<div>\n<style scoped>\n    .dataframe tbody tr th:only-of-type {\n        vertical-align: middle;\n    }\n\n    .dataframe tbody tr th {\n        vertical-align: top;\n    }\n\n    .dataframe thead th {\n        text-align: right;\n    }\n</style>\n<table border=\"1\" class=\"dataframe\">\n  <thead>\n    <tr style=\"text-align: right;\">\n      <th></th>\n      <th>Unnamed: 0</th>\n      <th>title</th>\n      <th>episodes</th>\n      <th>status</th>\n      <th>theme</th>\n      <th>demographic</th>\n      <th>genres</th>\n      <th>type</th>\n      <th>favorites</th>\n      <th>popularity</th>\n      <th>rank</th>\n      <th>score</th>\n      <th>members</th>\n      <th>synopsis</th>\n      <th>aired</th>\n      <th>duration</th>\n      <th>premiered</th>\n      <th>studios</th>\n    </tr>\n  </thead>\n  <tbody>\n    <tr>\n      <th>0</th>\n      <td>0</td>\n      <td>Fullmetal Alchemist: Brotherhood</td>\n      <td>64</td>\n      <td>Finished Airing</td>\n      <td>Military</td>\n      <td>Shounen</td>\n      <td>Action,Adventure,Drama,Fantasy,</td>\n      <td>TV</td>\n      <td>218,277</td>\n      <td>#3</td>\n      <td>#1</td>\n      <td>9.10</td>\n      <td>3,190,961</td>\n      <td>After a horrific alchemy experiment goes wrong...</td>\n      <td>Apr 5, 2009 to Jul 4, 2010</td>\n      <td>24 min. per ep.</td>\n      <td>Spring 2009</td>\n      <td>Bones</td>\n    </tr>\n    <tr>\n      <th>1</th>\n      <td>1</td>\n      <td>Steins;Gate</td>\n      <td>24</td>\n      <td>Finished Airing</td>\n      <td>Unknown</td>\n      <td>Unknown</td>\n      <td>Drama,Sci-Fi,Suspense,</td>\n      <td>TV</td>\n      <td>183,596</td>\n      <td>#13</td>\n      <td>#2</td>\n      <td>9.07</td>\n      <td>2,452,142</td>\n      <td>Eccentric scientist Rintarou Okabe has a never...</td>\n      <td>Apr 6, 2011 to Sep 14, 2011</td>\n      <td>24 min. per ep.</td>\n      <td>Spring 2011</td>\n      <td>White Fox</td>\n    </tr>\n    <tr>\n      <th>2</th>\n      <td>2</td>\n      <td>Bleach: Sennen Kessen-hen</td>\n      <td>13</td>\n      <td>Finished Airing</td>\n      <td>Unknown</td>\n      <td>Shounen</td>\n      <td>Action,Adventure,Fantasy,</td>\n      <td>TV</td>\n      <td>18,421</td>\n      <td>#458</td>\n      <td>#3</td>\n      <td>9.06</td>\n      <td>455,428</td>\n      <td>Substitute Soul Reaper Ichigo Kurosaki spends ...</td>\n      <td>Oct 11, 2022 to Dec 27, 2022</td>\n      <td>24 min. per ep.</td>\n      <td>Fall 2022</td>\n      <td>Pierrot</td>\n    </tr>\n    <tr>\n      <th>3</th>\n      <td>3</td>\n      <td>Gintama°</td>\n      <td>51</td>\n      <td>Finished Airing</td>\n      <td>Unknown</td>\n      <td>Shounen</td>\n      <td>Action,Comedy,Sci-Fi,</td>\n      <td>TV</td>\n      <td>16,042</td>\n      <td>#332</td>\n      <td>#4</td>\n      <td>9.06</td>\n      <td>599,235</td>\n      <td>Gintoki, Shinpachi, and Kagura return as the f...</td>\n      <td>Apr 8, 2015 to Mar 30, 2016</td>\n      <td>24 min. per ep.</td>\n      <td>Spring 2015</td>\n      <td>Bandai Namco Pictures</td>\n    </tr>\n    <tr>\n      <th>4</th>\n      <td>4</td>\n      <td>Kaguya-sama wa Kokurasetai: Ultra Romantic</td>\n      <td>13</td>\n      <td>Finished Airing</td>\n      <td>School</td>\n      <td>Seinen</td>\n      <td>Comedy,Romance,</td>\n      <td>TV</td>\n      <td>29,397</td>\n      <td>#193</td>\n      <td>#5</td>\n      <td>9.05</td>\n      <td>832,346</td>\n      <td>The elite members of Shuchiin Academy's studen...</td>\n      <td>Apr 9, 2022 to Jun 25, 2022</td>\n      <td>23 min. per ep.</td>\n      <td>Spring 2022</td>\n      <td>A-1 Pictures</td>\n    </tr>\n  </tbody>\n</table>\n</div>"
     },
     "metadata": {}
    }
   ]
  },
  {
   "cell_type": "code",
   "source": [
    "df = df.drop(columns=['Unnamed: 0', 'rank'])"
   ],
   "metadata": {
    "execution": {
     "iopub.status.busy": "2023-07-31T08:01:29.509379Z",
     "iopub.execute_input": "2023-07-31T08:01:29.509753Z",
     "iopub.status.idle": "2023-07-31T08:01:29.532531Z",
     "shell.execute_reply.started": "2023-07-31T08:01:29.509717Z",
     "shell.execute_reply": "2023-07-31T08:01:29.530376Z"
    },
    "trusted": true
   },
   "execution_count": 4,
   "outputs": []
  },
  {
   "cell_type": "code",
   "source": [
    "df = df.sample(frac=1, random_state=42).reset_index()"
   ],
   "metadata": {
    "execution": {
     "iopub.status.busy": "2023-07-31T08:01:29.538041Z",
     "iopub.execute_input": "2023-07-31T08:01:29.538602Z",
     "iopub.status.idle": "2023-07-31T08:01:29.578068Z",
     "shell.execute_reply.started": "2023-07-31T08:01:29.538548Z",
     "shell.execute_reply": "2023-07-31T08:01:29.576174Z"
    },
    "trusted": true
   },
   "execution_count": 5,
   "outputs": []
  },
  {
   "cell_type": "code",
   "source": [
    "df.head()"
   ],
   "metadata": {
    "execution": {
     "iopub.status.busy": "2023-07-31T08:01:29.580421Z",
     "iopub.execute_input": "2023-07-31T08:01:29.580927Z",
     "iopub.status.idle": "2023-07-31T08:01:29.612065Z",
     "shell.execute_reply.started": "2023-07-31T08:01:29.580880Z",
     "shell.execute_reply": "2023-07-31T08:01:29.610556Z"
    },
    "trusted": true
   },
   "execution_count": 6,
   "outputs": [
    {
     "execution_count": 6,
     "output_type": "execute_result",
     "data": {
      "text/plain": "   index                                      title episodes           status  \\\n0  24108       Choujin Densetsu Urotsukidouji Movie        1  Finished Airing   \n1   3703                                      Gunnm        2  Finished Airing   \n2   8815                                  Wolverine       12  Finished Airing   \n3   3369  Uta no☆Prince-sama♪ Maji Love Legend Star       13  Finished Airing   \n4   7502                    Fate/Extra: Last Encore       10  Finished Airing   \n\n       theme demographic                genres   type favorites popularity  \\\n0  Mythology     Unknown  Action,Drama,Hentai,  Movie        25      #7469   \n1      Mecha      Seinen         Drama,Sci-Fi,    OVA       251      #2703   \n2    Unknown     Unknown               Action,     TV        24      #4066   \n3    Unknown      Shoujo       Comedy,Romance,     TV       216      #3280   \n4    Unknown     Unknown       Action,Fantasy,     TV       475      #1057   \n\n   score  members                                           synopsis  \\\n0   6.08    6,005         Summary of Choujin Densetsu Urotsukidouji.   \n1   7.07   58,453  Doc Ido, a doctor and mechanic who lives and w...   \n2   6.01   26,550  Logan learns that his girlfriend, Mariko Yashi...   \n3   7.14   40,844  The anime's story will start where the third s...   \n4   6.29  214,177  A technological hell masquerading as paradise,...   \n\n                          aired         duration    premiered  \\\n0                  Mar 18, 1989    1 hr. 46 min.      Unknown   \n1  Jun 21, 1993 to Aug 21, 1993  30 min. per ep.      Unknown   \n2   Jan 7, 2011 to Mar 25, 2011  23 min. per ep.  Winter 2011   \n3   Oct 2, 2016 to Dec 25, 2016  24 min. per ep.    Fall 2016   \n4   Jan 28, 2018 to Apr 1, 2018  24 min. per ep.  Winter 2018   \n\n                 studios  \n0  Phoenix Entertainment  \n1               Madhouse  \n2               Madhouse  \n3           A-1 Pictures  \n4                  Shaft  ",
      "text/html": "<div>\n<style scoped>\n    .dataframe tbody tr th:only-of-type {\n        vertical-align: middle;\n    }\n\n    .dataframe tbody tr th {\n        vertical-align: top;\n    }\n\n    .dataframe thead th {\n        text-align: right;\n    }\n</style>\n<table border=\"1\" class=\"dataframe\">\n  <thead>\n    <tr style=\"text-align: right;\">\n      <th></th>\n      <th>index</th>\n      <th>title</th>\n      <th>episodes</th>\n      <th>status</th>\n      <th>theme</th>\n      <th>demographic</th>\n      <th>genres</th>\n      <th>type</th>\n      <th>favorites</th>\n      <th>popularity</th>\n      <th>score</th>\n      <th>members</th>\n      <th>synopsis</th>\n      <th>aired</th>\n      <th>duration</th>\n      <th>premiered</th>\n      <th>studios</th>\n    </tr>\n  </thead>\n  <tbody>\n    <tr>\n      <th>0</th>\n      <td>24108</td>\n      <td>Choujin Densetsu Urotsukidouji Movie</td>\n      <td>1</td>\n      <td>Finished Airing</td>\n      <td>Mythology</td>\n      <td>Unknown</td>\n      <td>Action,Drama,Hentai,</td>\n      <td>Movie</td>\n      <td>25</td>\n      <td>#7469</td>\n      <td>6.08</td>\n      <td>6,005</td>\n      <td>Summary of Choujin Densetsu Urotsukidouji.</td>\n      <td>Mar 18, 1989</td>\n      <td>1 hr. 46 min.</td>\n      <td>Unknown</td>\n      <td>Phoenix Entertainment</td>\n    </tr>\n    <tr>\n      <th>1</th>\n      <td>3703</td>\n      <td>Gunnm</td>\n      <td>2</td>\n      <td>Finished Airing</td>\n      <td>Mecha</td>\n      <td>Seinen</td>\n      <td>Drama,Sci-Fi,</td>\n      <td>OVA</td>\n      <td>251</td>\n      <td>#2703</td>\n      <td>7.07</td>\n      <td>58,453</td>\n      <td>Doc Ido, a doctor and mechanic who lives and w...</td>\n      <td>Jun 21, 1993 to Aug 21, 1993</td>\n      <td>30 min. per ep.</td>\n      <td>Unknown</td>\n      <td>Madhouse</td>\n    </tr>\n    <tr>\n      <th>2</th>\n      <td>8815</td>\n      <td>Wolverine</td>\n      <td>12</td>\n      <td>Finished Airing</td>\n      <td>Unknown</td>\n      <td>Unknown</td>\n      <td>Action,</td>\n      <td>TV</td>\n      <td>24</td>\n      <td>#4066</td>\n      <td>6.01</td>\n      <td>26,550</td>\n      <td>Logan learns that his girlfriend, Mariko Yashi...</td>\n      <td>Jan 7, 2011 to Mar 25, 2011</td>\n      <td>23 min. per ep.</td>\n      <td>Winter 2011</td>\n      <td>Madhouse</td>\n    </tr>\n    <tr>\n      <th>3</th>\n      <td>3369</td>\n      <td>Uta no☆Prince-sama♪ Maji Love Legend Star</td>\n      <td>13</td>\n      <td>Finished Airing</td>\n      <td>Unknown</td>\n      <td>Shoujo</td>\n      <td>Comedy,Romance,</td>\n      <td>TV</td>\n      <td>216</td>\n      <td>#3280</td>\n      <td>7.14</td>\n      <td>40,844</td>\n      <td>The anime's story will start where the third s...</td>\n      <td>Oct 2, 2016 to Dec 25, 2016</td>\n      <td>24 min. per ep.</td>\n      <td>Fall 2016</td>\n      <td>A-1 Pictures</td>\n    </tr>\n    <tr>\n      <th>4</th>\n      <td>7502</td>\n      <td>Fate/Extra: Last Encore</td>\n      <td>10</td>\n      <td>Finished Airing</td>\n      <td>Unknown</td>\n      <td>Unknown</td>\n      <td>Action,Fantasy,</td>\n      <td>TV</td>\n      <td>475</td>\n      <td>#1057</td>\n      <td>6.29</td>\n      <td>214,177</td>\n      <td>A technological hell masquerading as paradise,...</td>\n      <td>Jan 28, 2018 to Apr 1, 2018</td>\n      <td>24 min. per ep.</td>\n      <td>Winter 2018</td>\n      <td>Shaft</td>\n    </tr>\n  </tbody>\n</table>\n</div>"
     },
     "metadata": {}
    }
   ]
  },
  {
   "cell_type": "code",
   "source": [
    "df = df.drop(columns=['index'])"
   ],
   "metadata": {
    "execution": {
     "iopub.status.busy": "2023-07-31T08:01:29.614135Z",
     "iopub.execute_input": "2023-07-31T08:01:29.614585Z",
     "iopub.status.idle": "2023-07-31T08:01:29.631068Z",
     "shell.execute_reply.started": "2023-07-31T08:01:29.614544Z",
     "shell.execute_reply": "2023-07-31T08:01:29.629225Z"
    },
    "trusted": true
   },
   "execution_count": 7,
   "outputs": []
  },
  {
   "cell_type": "code",
   "source": [
    "df.info()"
   ],
   "metadata": {
    "execution": {
     "iopub.status.busy": "2023-07-31T08:01:29.632979Z",
     "iopub.execute_input": "2023-07-31T08:01:29.633549Z",
     "iopub.status.idle": "2023-07-31T08:01:29.800777Z",
     "shell.execute_reply.started": "2023-07-31T08:01:29.633505Z",
     "shell.execute_reply": "2023-07-31T08:01:29.799546Z"
    },
    "trusted": true
   },
   "execution_count": 8,
   "outputs": [
    {
     "name": "stdout",
     "text": "<class 'pandas.core.frame.DataFrame'>\nRangeIndex: 24262 entries, 0 to 24261\nData columns (total 16 columns):\n #   Column       Non-Null Count  Dtype  \n---  ------       --------------  -----  \n 0   title        24262 non-null  object \n 1   episodes     24262 non-null  object \n 2   status       24262 non-null  object \n 3   theme        24262 non-null  object \n 4   demographic  24262 non-null  object \n 5   genres       24262 non-null  object \n 6   type         24262 non-null  object \n 7   favorites    24262 non-null  object \n 8   popularity   24262 non-null  object \n 9   score        15294 non-null  float64\n 10  members      24262 non-null  object \n 11  synopsis     24262 non-null  object \n 12  aired        24262 non-null  object \n 13  duration     24262 non-null  object \n 14  premiered    24262 non-null  object \n 15  studios      24262 non-null  object \ndtypes: float64(1), object(15)\nmemory usage: 3.0+ MB\n",
     "output_type": "stream"
    }
   ]
  },
  {
   "cell_type": "code",
   "source": [
    "df['theme'].value_counts()"
   ],
   "metadata": {
    "execution": {
     "iopub.status.busy": "2023-07-31T08:01:29.806274Z",
     "iopub.execute_input": "2023-07-31T08:01:29.808000Z",
     "iopub.status.idle": "2023-07-31T08:01:29.823814Z",
     "shell.execute_reply.started": "2023-07-31T08:01:29.807947Z",
     "shell.execute_reply": "2023-07-31T08:01:29.822751Z"
    },
    "trusted": true
   },
   "execution_count": 9,
   "outputs": [
    {
     "execution_count": 9,
     "output_type": "execute_result",
     "data": {
      "text/plain": "Unknown              14805\nMusic                 2803\nSchool                 821\nHistorical             796\nAnthropomorphic        689\nMecha                  582\nParody                 318\nMythology              272\nSuper Power            265\nMartial Arts           202\nEducational            191\nSpace                  190\nStrategy Game          188\nTeam Sports            177\nMahou Shoujo           167\nRacing                 154\nPsychological          148\nMilitary               143\nHarem                  133\nDetective              116\nAdult Cast             111\nIsekai                 107\nVideo Game              85\nPets                    71\nCombat Sports           65\nWorkplace               64\nVampire                 63\nGag Humor               62\nIyashikei               53\nTime Travel             41\nSamurai                 37\nCGDCT                   35\nChildcare               34\nPerforming Arts         29\nIdols (Female)          28\nGore                    27\nOrganized Crime         23\nReverse Harem           23\nLove Polygon            16\nOtaku Culture           16\nVisual Arts             16\nDelinquents             16\nMedical                 14\nShowbiz                 10\nReincarnation           10\nMagical Sex Shift       10\nRomantic Subtext         9\nSurvival                 9\nIdols (Male)             9\nCrossdressing            8\nHigh Stakes Game         1\nName: theme, dtype: int64"
     },
     "metadata": {}
    }
   ]
  },
  {
   "cell_type": "code",
   "source": [
    "df[df['episodes'] == 'Unknown']"
   ],
   "metadata": {
    "execution": {
     "iopub.status.busy": "2023-07-31T08:01:29.825211Z",
     "iopub.execute_input": "2023-07-31T08:01:29.826375Z",
     "iopub.status.idle": "2023-07-31T08:01:29.860401Z",
     "shell.execute_reply.started": "2023-07-31T08:01:29.826331Z",
     "shell.execute_reply": "2023-07-31T08:01:29.859236Z"
    },
    "trusted": true
   },
   "execution_count": 10,
   "outputs": [
    {
     "execution_count": 10,
     "output_type": "execute_result",
     "data": {
      "text/plain": "                                                   title episodes  \\\n46     Shin Tennis no Ouji-sama: U-17 World Cup Semif...  Unknown   \n58     Otome Game Sekai wa Mob ni Kibishii Sekai desu...  Unknown   \n85                                  Shaman King: Flowers  Unknown   \n224                         Seiken Gakuin no Makentsukai  Unknown   \n356               Boruto: Naruto Next Generations Part 2  Unknown   \n...                                                  ...      ...   \n24095                                         Dog Signal  Unknown   \n24116                           Elleair x Kamiusagi Rope  Unknown   \n24149                                          Arknights  Unknown   \n24196                           Ling Jian Zun 4th Season  Unknown   \n24205                                      Undead Unluck  Unknown   \n\n                 status         theme demographic  \\\n46        Not yet aired        School     Shounen   \n58        Not yet aired       Unknown     Unknown   \n85        Not yet aired   Super Power     Shounen   \n224       Not yet aired       Unknown     Unknown   \n356       Not yet aired  Martial Arts     Shounen   \n...                 ...           ...         ...   \n24095     Not yet aired          Pets       Josei   \n24116  Currently Airing       Unknown     Unknown   \n24149  Currently Airing    Video Game     Unknown   \n24196  Currently Airing  Martial Arts     Unknown   \n24205     Not yet aired       Unknown     Shounen   \n\n                                  genres type favorites popularity  score  \\\n46                               Sports,   TV         2     #11747    NaN   \n58                       Action,Fantasy,   TV       160      #3695    NaN   \n85        Adventure,Comedy,Supernatural,   TV        33      #5259    NaN   \n224                      Action,Fantasy,   TV       202      #4400    NaN   \n356            Action,Adventure,Fantasy,   TV       160      #4894    NaN   \n...                                  ...  ...       ...        ...    ...   \n24095                                fe,   TV         2     #12220    NaN   \n24116                         Comedy,fe,  ONA         0     #16655    NaN   \n24149                    Action,Fantasy,  ONA        74      #7672   7.10   \n24196  Action,Adventure,Fantasy,Romance,  ONA         9      #9903   7.02   \n24205        Action,Comedy,Supernatural,   TV       104      #4186    NaN   \n\n      members                                           synopsis  \\\n46      1,386  No synopsis information has been added to this...   \n58     32,360  Second season of Otome Game Sekai wa Mob ni Ki...   \n85     14,316  The story will center on You and Anna's son, H...   \n224    22,341  Battles for ancient kingdoms are nothing compa...   \n356    17,449  No synopsis information has been added to this...   \n...       ...                                                ...   \n24095   1,174  A dog trainer's job is to bring dogs and peopl...   \n24116     351  A collaboration between the facial tissue comp...   \n24149   5,613  A series of animated promotions for tower defe...   \n24196   2,611                    Fourth season of Ling Jian Zun.   \n24205  24,986  After reading the conclusion of her favorite m...   \n\n                   aired duration    premiered               studios  \n46             2024 to ?  Unknown            ?  None found, add some  \n58         Not available  Unknown            ?  None found, add some  \n85         Jan 2024 to ?  Unknown  Winter 2024                Bridge  \n224        Not available  Unknown            ?              Passione  \n356        Not available  Unknown            ?  None found, add some  \n...                  ...      ...          ...                   ...  \n24095      Oct 2023 to ?  Unknown    Fall 2023  None found, add some  \n24116   Jan 3, 2018 to ?   1 min.      Unknown  None found, add some  \n24149  Nov 19, 2019 to ?  30 sec.      Unknown       Yostar Pictures  \n24196   Sep 8, 2020 to ?  11 min.      Unknown                 Soyep  \n24205      Oct 2023 to ?  Unknown    Fall 2023      David Production  \n\n[520 rows x 16 columns]",
      "text/html": "<div>\n<style scoped>\n    .dataframe tbody tr th:only-of-type {\n        vertical-align: middle;\n    }\n\n    .dataframe tbody tr th {\n        vertical-align: top;\n    }\n\n    .dataframe thead th {\n        text-align: right;\n    }\n</style>\n<table border=\"1\" class=\"dataframe\">\n  <thead>\n    <tr style=\"text-align: right;\">\n      <th></th>\n      <th>title</th>\n      <th>episodes</th>\n      <th>status</th>\n      <th>theme</th>\n      <th>demographic</th>\n      <th>genres</th>\n      <th>type</th>\n      <th>favorites</th>\n      <th>popularity</th>\n      <th>score</th>\n      <th>members</th>\n      <th>synopsis</th>\n      <th>aired</th>\n      <th>duration</th>\n      <th>premiered</th>\n      <th>studios</th>\n    </tr>\n  </thead>\n  <tbody>\n    <tr>\n      <th>46</th>\n      <td>Shin Tennis no Ouji-sama: U-17 World Cup Semif...</td>\n      <td>Unknown</td>\n      <td>Not yet aired</td>\n      <td>School</td>\n      <td>Shounen</td>\n      <td>Sports,</td>\n      <td>TV</td>\n      <td>2</td>\n      <td>#11747</td>\n      <td>NaN</td>\n      <td>1,386</td>\n      <td>No synopsis information has been added to this...</td>\n      <td>2024 to ?</td>\n      <td>Unknown</td>\n      <td>?</td>\n      <td>None found, add some</td>\n    </tr>\n    <tr>\n      <th>58</th>\n      <td>Otome Game Sekai wa Mob ni Kibishii Sekai desu...</td>\n      <td>Unknown</td>\n      <td>Not yet aired</td>\n      <td>Unknown</td>\n      <td>Unknown</td>\n      <td>Action,Fantasy,</td>\n      <td>TV</td>\n      <td>160</td>\n      <td>#3695</td>\n      <td>NaN</td>\n      <td>32,360</td>\n      <td>Second season of Otome Game Sekai wa Mob ni Ki...</td>\n      <td>Not available</td>\n      <td>Unknown</td>\n      <td>?</td>\n      <td>None found, add some</td>\n    </tr>\n    <tr>\n      <th>85</th>\n      <td>Shaman King: Flowers</td>\n      <td>Unknown</td>\n      <td>Not yet aired</td>\n      <td>Super Power</td>\n      <td>Shounen</td>\n      <td>Adventure,Comedy,Supernatural,</td>\n      <td>TV</td>\n      <td>33</td>\n      <td>#5259</td>\n      <td>NaN</td>\n      <td>14,316</td>\n      <td>The story will center on You and Anna's son, H...</td>\n      <td>Jan 2024 to ?</td>\n      <td>Unknown</td>\n      <td>Winter 2024</td>\n      <td>Bridge</td>\n    </tr>\n    <tr>\n      <th>224</th>\n      <td>Seiken Gakuin no Makentsukai</td>\n      <td>Unknown</td>\n      <td>Not yet aired</td>\n      <td>Unknown</td>\n      <td>Unknown</td>\n      <td>Action,Fantasy,</td>\n      <td>TV</td>\n      <td>202</td>\n      <td>#4400</td>\n      <td>NaN</td>\n      <td>22,341</td>\n      <td>Battles for ancient kingdoms are nothing compa...</td>\n      <td>Not available</td>\n      <td>Unknown</td>\n      <td>?</td>\n      <td>Passione</td>\n    </tr>\n    <tr>\n      <th>356</th>\n      <td>Boruto: Naruto Next Generations Part 2</td>\n      <td>Unknown</td>\n      <td>Not yet aired</td>\n      <td>Martial Arts</td>\n      <td>Shounen</td>\n      <td>Action,Adventure,Fantasy,</td>\n      <td>TV</td>\n      <td>160</td>\n      <td>#4894</td>\n      <td>NaN</td>\n      <td>17,449</td>\n      <td>No synopsis information has been added to this...</td>\n      <td>Not available</td>\n      <td>Unknown</td>\n      <td>?</td>\n      <td>None found, add some</td>\n    </tr>\n    <tr>\n      <th>...</th>\n      <td>...</td>\n      <td>...</td>\n      <td>...</td>\n      <td>...</td>\n      <td>...</td>\n      <td>...</td>\n      <td>...</td>\n      <td>...</td>\n      <td>...</td>\n      <td>...</td>\n      <td>...</td>\n      <td>...</td>\n      <td>...</td>\n      <td>...</td>\n      <td>...</td>\n      <td>...</td>\n    </tr>\n    <tr>\n      <th>24095</th>\n      <td>Dog Signal</td>\n      <td>Unknown</td>\n      <td>Not yet aired</td>\n      <td>Pets</td>\n      <td>Josei</td>\n      <td>fe,</td>\n      <td>TV</td>\n      <td>2</td>\n      <td>#12220</td>\n      <td>NaN</td>\n      <td>1,174</td>\n      <td>A dog trainer's job is to bring dogs and peopl...</td>\n      <td>Oct 2023 to ?</td>\n      <td>Unknown</td>\n      <td>Fall 2023</td>\n      <td>None found, add some</td>\n    </tr>\n    <tr>\n      <th>24116</th>\n      <td>Elleair x Kamiusagi Rope</td>\n      <td>Unknown</td>\n      <td>Currently Airing</td>\n      <td>Unknown</td>\n      <td>Unknown</td>\n      <td>Comedy,fe,</td>\n      <td>ONA</td>\n      <td>0</td>\n      <td>#16655</td>\n      <td>NaN</td>\n      <td>351</td>\n      <td>A collaboration between the facial tissue comp...</td>\n      <td>Jan 3, 2018 to ?</td>\n      <td>1 min.</td>\n      <td>Unknown</td>\n      <td>None found, add some</td>\n    </tr>\n    <tr>\n      <th>24149</th>\n      <td>Arknights</td>\n      <td>Unknown</td>\n      <td>Currently Airing</td>\n      <td>Video Game</td>\n      <td>Unknown</td>\n      <td>Action,Fantasy,</td>\n      <td>ONA</td>\n      <td>74</td>\n      <td>#7672</td>\n      <td>7.10</td>\n      <td>5,613</td>\n      <td>A series of animated promotions for tower defe...</td>\n      <td>Nov 19, 2019 to ?</td>\n      <td>30 sec.</td>\n      <td>Unknown</td>\n      <td>Yostar Pictures</td>\n    </tr>\n    <tr>\n      <th>24196</th>\n      <td>Ling Jian Zun 4th Season</td>\n      <td>Unknown</td>\n      <td>Currently Airing</td>\n      <td>Martial Arts</td>\n      <td>Unknown</td>\n      <td>Action,Adventure,Fantasy,Romance,</td>\n      <td>ONA</td>\n      <td>9</td>\n      <td>#9903</td>\n      <td>7.02</td>\n      <td>2,611</td>\n      <td>Fourth season of Ling Jian Zun.</td>\n      <td>Sep 8, 2020 to ?</td>\n      <td>11 min.</td>\n      <td>Unknown</td>\n      <td>Soyep</td>\n    </tr>\n    <tr>\n      <th>24205</th>\n      <td>Undead Unluck</td>\n      <td>Unknown</td>\n      <td>Not yet aired</td>\n      <td>Unknown</td>\n      <td>Shounen</td>\n      <td>Action,Comedy,Supernatural,</td>\n      <td>TV</td>\n      <td>104</td>\n      <td>#4186</td>\n      <td>NaN</td>\n      <td>24,986</td>\n      <td>After reading the conclusion of her favorite m...</td>\n      <td>Oct 2023 to ?</td>\n      <td>Unknown</td>\n      <td>Fall 2023</td>\n      <td>David Production</td>\n    </tr>\n  </tbody>\n</table>\n<p>520 rows × 16 columns</p>\n</div>"
     },
     "metadata": {}
    }
   ]
  },
  {
   "cell_type": "code",
   "source": [
    "indices = df[df['episodes'] == 'Unknown'].index\n",
    "\n",
    "df = df.drop(indices)"
   ],
   "metadata": {
    "execution": {
     "iopub.status.busy": "2023-07-31T08:01:29.862028Z",
     "iopub.execute_input": "2023-07-31T08:01:29.862360Z",
     "iopub.status.idle": "2023-07-31T08:01:29.895095Z",
     "shell.execute_reply.started": "2023-07-31T08:01:29.862331Z",
     "shell.execute_reply": "2023-07-31T08:01:29.893885Z"
    },
    "trusted": true
   },
   "execution_count": 11,
   "outputs": []
  },
  {
   "cell_type": "code",
   "source": [
    "df"
   ],
   "metadata": {
    "execution": {
     "iopub.status.busy": "2023-07-31T08:01:29.896724Z",
     "iopub.execute_input": "2023-07-31T08:01:29.897177Z",
     "iopub.status.idle": "2023-07-31T08:01:29.932978Z",
     "shell.execute_reply.started": "2023-07-31T08:01:29.897130Z",
     "shell.execute_reply": "2023-07-31T08:01:29.931839Z"
    },
    "trusted": true
   },
   "execution_count": 12,
   "outputs": [
    {
     "execution_count": 12,
     "output_type": "execute_result",
     "data": {
      "text/plain": "                                                   title episodes  \\\n0                   Choujin Densetsu Urotsukidouji Movie        1   \n1                                                  Gunnm        2   \n2                                              Wolverine       12   \n3              Uta no☆Prince-sama♪ Maji Love Legend Star       13   \n4                                Fate/Extra: Last Encore       10   \n...                                                  ...      ...   \n24257                          Otogi no Kuni no Birthday        1   \n24258                                   Haunted Junction       12   \n24259  Kaleido Star: Legend of Phoenix - Layla Hamilt...        1   \n24260                            Dosukoi! Wanpaku Dohyou        1   \n24261         Hyakujitsu no Bara: Jinginaki Nikukyuu-hen        2   \n\n                status          theme demographic                genres  \\\n0      Finished Airing      Mythology     Unknown  Action,Drama,Hentai,   \n1      Finished Airing          Mecha      Seinen         Drama,Sci-Fi,   \n2      Finished Airing        Unknown     Unknown               Action,   \n3      Finished Airing        Unknown      Shoujo       Comedy,Romance,   \n4      Finished Airing        Unknown     Unknown       Action,Fantasy,   \n...                ...            ...         ...                   ...   \n24257  Finished Airing          Music        Kids               Unknown   \n24258  Finished Airing         School     Shounen  Comedy,Supernatural,   \n24259  Finished Airing        Unknown      Shoujo         Comedy,Drama,   \n24260  Finished Airing  Combat Sports     Unknown         Drama,Sports,   \n24261  Finished Airing         Parody     Unknown           ve,Erotica,   \n\n          type favorites popularity  score  members  \\\n0        Movie        25      #7469   6.08    6,005   \n1          OVA       251      #2703   7.07   58,453   \n2           TV        24      #4066   6.01   26,550   \n3           TV       216      #3280   7.14   40,844   \n4           TV       475      #1057   6.29  214,177   \n...        ...       ...        ...    ...      ...   \n24257    Music         0     #15992   4.94      402   \n24258       TV        12      #8403   6.70    4,468   \n24259      OVA        31      #5305   7.84   14,049   \n24260    Movie         1     #17907    NaN      263   \n24261  Special        13      #6603   6.63    8,173   \n\n                                                synopsis  \\\n0             Summary of Choujin Densetsu Urotsukidouji.   \n1      Doc Ido, a doctor and mechanic who lives and w...   \n2      Logan learns that his girlfriend, Mariko Yashi...   \n3      The anime's story will start where the third s...   \n4      A technological hell masquerading as paradise,...   \n...                                                  ...   \n24257  Animated music video of a single released by N...   \n24258  Saito High is a high school with its spiritual...   \n24259  Layla is going to perform Phoenix in Broadway....   \n24260  Shown as a double feature with Dohyou no Oni-t...   \n24261  Specials included in the OVA of Hyakujitsu no ...   \n\n                              aired         duration    premiered  \\\n0                      Mar 18, 1989    1 hr. 46 min.      Unknown   \n1      Jun 21, 1993 to Aug 21, 1993  30 min. per ep.      Unknown   \n2       Jan 7, 2011 to Mar 25, 2011  23 min. per ep.  Winter 2011   \n3       Oct 2, 2016 to Dec 25, 2016  24 min. per ep.    Fall 2016   \n4       Jan 28, 2018 to Apr 1, 2018  24 min. per ep.  Winter 2018   \n...                             ...              ...          ...   \n24257                   Dec 1, 1988           2 min.      Unknown   \n24258   Apr 2, 1997 to Jun 25, 1997  24 min. per ep.  Spring 1997   \n24259                  Dec 11, 2005          50 min.      Unknown   \n24260                  May 21, 1994          55 min.      Unknown   \n24261  May 29, 2009 to Oct 23, 2009   5 min. per ep.      Unknown   \n\n                     studios  \n0      Phoenix Entertainment  \n1                   Madhouse  \n2                   Madhouse  \n3               A-1 Pictures  \n4                      Shaft  \n...                      ...  \n24257   None found, add some  \n24258            Studio Deen  \n24259                  Gonzo  \n24260   None found, add some  \n24261              PrimeTime  \n\n[23742 rows x 16 columns]",
      "text/html": "<div>\n<style scoped>\n    .dataframe tbody tr th:only-of-type {\n        vertical-align: middle;\n    }\n\n    .dataframe tbody tr th {\n        vertical-align: top;\n    }\n\n    .dataframe thead th {\n        text-align: right;\n    }\n</style>\n<table border=\"1\" class=\"dataframe\">\n  <thead>\n    <tr style=\"text-align: right;\">\n      <th></th>\n      <th>title</th>\n      <th>episodes</th>\n      <th>status</th>\n      <th>theme</th>\n      <th>demographic</th>\n      <th>genres</th>\n      <th>type</th>\n      <th>favorites</th>\n      <th>popularity</th>\n      <th>score</th>\n      <th>members</th>\n      <th>synopsis</th>\n      <th>aired</th>\n      <th>duration</th>\n      <th>premiered</th>\n      <th>studios</th>\n    </tr>\n  </thead>\n  <tbody>\n    <tr>\n      <th>0</th>\n      <td>Choujin Densetsu Urotsukidouji Movie</td>\n      <td>1</td>\n      <td>Finished Airing</td>\n      <td>Mythology</td>\n      <td>Unknown</td>\n      <td>Action,Drama,Hentai,</td>\n      <td>Movie</td>\n      <td>25</td>\n      <td>#7469</td>\n      <td>6.08</td>\n      <td>6,005</td>\n      <td>Summary of Choujin Densetsu Urotsukidouji.</td>\n      <td>Mar 18, 1989</td>\n      <td>1 hr. 46 min.</td>\n      <td>Unknown</td>\n      <td>Phoenix Entertainment</td>\n    </tr>\n    <tr>\n      <th>1</th>\n      <td>Gunnm</td>\n      <td>2</td>\n      <td>Finished Airing</td>\n      <td>Mecha</td>\n      <td>Seinen</td>\n      <td>Drama,Sci-Fi,</td>\n      <td>OVA</td>\n      <td>251</td>\n      <td>#2703</td>\n      <td>7.07</td>\n      <td>58,453</td>\n      <td>Doc Ido, a doctor and mechanic who lives and w...</td>\n      <td>Jun 21, 1993 to Aug 21, 1993</td>\n      <td>30 min. per ep.</td>\n      <td>Unknown</td>\n      <td>Madhouse</td>\n    </tr>\n    <tr>\n      <th>2</th>\n      <td>Wolverine</td>\n      <td>12</td>\n      <td>Finished Airing</td>\n      <td>Unknown</td>\n      <td>Unknown</td>\n      <td>Action,</td>\n      <td>TV</td>\n      <td>24</td>\n      <td>#4066</td>\n      <td>6.01</td>\n      <td>26,550</td>\n      <td>Logan learns that his girlfriend, Mariko Yashi...</td>\n      <td>Jan 7, 2011 to Mar 25, 2011</td>\n      <td>23 min. per ep.</td>\n      <td>Winter 2011</td>\n      <td>Madhouse</td>\n    </tr>\n    <tr>\n      <th>3</th>\n      <td>Uta no☆Prince-sama♪ Maji Love Legend Star</td>\n      <td>13</td>\n      <td>Finished Airing</td>\n      <td>Unknown</td>\n      <td>Shoujo</td>\n      <td>Comedy,Romance,</td>\n      <td>TV</td>\n      <td>216</td>\n      <td>#3280</td>\n      <td>7.14</td>\n      <td>40,844</td>\n      <td>The anime's story will start where the third s...</td>\n      <td>Oct 2, 2016 to Dec 25, 2016</td>\n      <td>24 min. per ep.</td>\n      <td>Fall 2016</td>\n      <td>A-1 Pictures</td>\n    </tr>\n    <tr>\n      <th>4</th>\n      <td>Fate/Extra: Last Encore</td>\n      <td>10</td>\n      <td>Finished Airing</td>\n      <td>Unknown</td>\n      <td>Unknown</td>\n      <td>Action,Fantasy,</td>\n      <td>TV</td>\n      <td>475</td>\n      <td>#1057</td>\n      <td>6.29</td>\n      <td>214,177</td>\n      <td>A technological hell masquerading as paradise,...</td>\n      <td>Jan 28, 2018 to Apr 1, 2018</td>\n      <td>24 min. per ep.</td>\n      <td>Winter 2018</td>\n      <td>Shaft</td>\n    </tr>\n    <tr>\n      <th>...</th>\n      <td>...</td>\n      <td>...</td>\n      <td>...</td>\n      <td>...</td>\n      <td>...</td>\n      <td>...</td>\n      <td>...</td>\n      <td>...</td>\n      <td>...</td>\n      <td>...</td>\n      <td>...</td>\n      <td>...</td>\n      <td>...</td>\n      <td>...</td>\n      <td>...</td>\n      <td>...</td>\n    </tr>\n    <tr>\n      <th>24257</th>\n      <td>Otogi no Kuni no Birthday</td>\n      <td>1</td>\n      <td>Finished Airing</td>\n      <td>Music</td>\n      <td>Kids</td>\n      <td>Unknown</td>\n      <td>Music</td>\n      <td>0</td>\n      <td>#15992</td>\n      <td>4.94</td>\n      <td>402</td>\n      <td>Animated music video of a single released by N...</td>\n      <td>Dec 1, 1988</td>\n      <td>2 min.</td>\n      <td>Unknown</td>\n      <td>None found, add some</td>\n    </tr>\n    <tr>\n      <th>24258</th>\n      <td>Haunted Junction</td>\n      <td>12</td>\n      <td>Finished Airing</td>\n      <td>School</td>\n      <td>Shounen</td>\n      <td>Comedy,Supernatural,</td>\n      <td>TV</td>\n      <td>12</td>\n      <td>#8403</td>\n      <td>6.70</td>\n      <td>4,468</td>\n      <td>Saito High is a high school with its spiritual...</td>\n      <td>Apr 2, 1997 to Jun 25, 1997</td>\n      <td>24 min. per ep.</td>\n      <td>Spring 1997</td>\n      <td>Studio Deen</td>\n    </tr>\n    <tr>\n      <th>24259</th>\n      <td>Kaleido Star: Legend of Phoenix - Layla Hamilt...</td>\n      <td>1</td>\n      <td>Finished Airing</td>\n      <td>Unknown</td>\n      <td>Shoujo</td>\n      <td>Comedy,Drama,</td>\n      <td>OVA</td>\n      <td>31</td>\n      <td>#5305</td>\n      <td>7.84</td>\n      <td>14,049</td>\n      <td>Layla is going to perform Phoenix in Broadway....</td>\n      <td>Dec 11, 2005</td>\n      <td>50 min.</td>\n      <td>Unknown</td>\n      <td>Gonzo</td>\n    </tr>\n    <tr>\n      <th>24260</th>\n      <td>Dosukoi! Wanpaku Dohyou</td>\n      <td>1</td>\n      <td>Finished Airing</td>\n      <td>Combat Sports</td>\n      <td>Unknown</td>\n      <td>Drama,Sports,</td>\n      <td>Movie</td>\n      <td>1</td>\n      <td>#17907</td>\n      <td>NaN</td>\n      <td>263</td>\n      <td>Shown as a double feature with Dohyou no Oni-t...</td>\n      <td>May 21, 1994</td>\n      <td>55 min.</td>\n      <td>Unknown</td>\n      <td>None found, add some</td>\n    </tr>\n    <tr>\n      <th>24261</th>\n      <td>Hyakujitsu no Bara: Jinginaki Nikukyuu-hen</td>\n      <td>2</td>\n      <td>Finished Airing</td>\n      <td>Parody</td>\n      <td>Unknown</td>\n      <td>ve,Erotica,</td>\n      <td>Special</td>\n      <td>13</td>\n      <td>#6603</td>\n      <td>6.63</td>\n      <td>8,173</td>\n      <td>Specials included in the OVA of Hyakujitsu no ...</td>\n      <td>May 29, 2009 to Oct 23, 2009</td>\n      <td>5 min. per ep.</td>\n      <td>Unknown</td>\n      <td>PrimeTime</td>\n    </tr>\n  </tbody>\n</table>\n<p>23742 rows × 16 columns</p>\n</div>"
     },
     "metadata": {}
    }
   ]
  },
  {
   "cell_type": "code",
   "source": [
    "df['episodes'] = df['episodes'].str.replace(',', '')\n",
    "df['favorites'] = df['favorites'].str.replace(',', '')\n",
    "df['members'] = df['members'].str.replace(',', '')\n",
    "df['popularity'] = df['popularity'].str.replace('#','')"
   ],
   "metadata": {
    "_kg_hide-output": true,
    "execution": {
     "iopub.status.busy": "2023-07-31T08:01:29.934595Z",
     "iopub.execute_input": "2023-07-31T08:01:29.937450Z",
     "iopub.status.idle": "2023-07-31T08:01:30.024404Z",
     "shell.execute_reply.started": "2023-07-31T08:01:29.937400Z",
     "shell.execute_reply": "2023-07-31T08:01:30.023201Z"
    },
    "trusted": true
   },
   "execution_count": 13,
   "outputs": []
  },
  {
   "cell_type": "code",
   "source": [
    "df['episodes'] = df['episodes'].astype(int)\n",
    "df['favorites'] = df['favorites'].astype(int)\n",
    "df['members'] = df['members'].astype(int)\n",
    "df['popularity'] = df['popularity'].astype(int)"
   ],
   "metadata": {
    "execution": {
     "iopub.status.busy": "2023-07-31T08:01:30.031329Z",
     "iopub.execute_input": "2023-07-31T08:01:30.032006Z",
     "iopub.status.idle": "2023-07-31T08:01:30.057600Z",
     "shell.execute_reply.started": "2023-07-31T08:01:30.031957Z",
     "shell.execute_reply": "2023-07-31T08:01:30.056126Z"
    },
    "trusted": true
   },
   "execution_count": 14,
   "outputs": []
  },
  {
   "cell_type": "code",
   "source": [
    "df.info()"
   ],
   "metadata": {
    "execution": {
     "iopub.status.busy": "2023-07-31T08:01:30.059084Z",
     "iopub.execute_input": "2023-07-31T08:01:30.059512Z",
     "iopub.status.idle": "2023-07-31T08:01:30.175661Z",
     "shell.execute_reply.started": "2023-07-31T08:01:30.059472Z",
     "shell.execute_reply": "2023-07-31T08:01:30.174504Z"
    },
    "trusted": true
   },
   "execution_count": 15,
   "outputs": [
    {
     "name": "stdout",
     "text": "<class 'pandas.core.frame.DataFrame'>\nInt64Index: 23742 entries, 0 to 24261\nData columns (total 16 columns):\n #   Column       Non-Null Count  Dtype  \n---  ------       --------------  -----  \n 0   title        23742 non-null  object \n 1   episodes     23742 non-null  int64  \n 2   status       23742 non-null  object \n 3   theme        23742 non-null  object \n 4   demographic  23742 non-null  object \n 5   genres       23742 non-null  object \n 6   type         23742 non-null  object \n 7   favorites    23742 non-null  int64  \n 8   popularity   23742 non-null  int64  \n 9   score        15209 non-null  float64\n 10  members      23742 non-null  int64  \n 11  synopsis     23742 non-null  object \n 12  aired        23742 non-null  object \n 13  duration     23742 non-null  object \n 14  premiered    23742 non-null  object \n 15  studios      23742 non-null  object \ndtypes: float64(1), int64(4), object(11)\nmemory usage: 3.1+ MB\n",
     "output_type": "stream"
    }
   ]
  },
  {
   "cell_type": "code",
   "source": [
    "df = df.drop(columns=['synopsis', 'aired', 'duration', 'premiered'])\n",
    "df = df.set_index('title')"
   ],
   "metadata": {
    "execution": {
     "iopub.status.busy": "2023-07-31T08:01:30.177175Z",
     "iopub.execute_input": "2023-07-31T08:01:30.177593Z",
     "iopub.status.idle": "2023-07-31T08:01:30.191867Z",
     "shell.execute_reply.started": "2023-07-31T08:01:30.177563Z",
     "shell.execute_reply": "2023-07-31T08:01:30.190411Z"
    },
    "trusted": true
   },
   "execution_count": 16,
   "outputs": []
  },
  {
   "cell_type": "code",
   "source": [
    "X = df[~df['score'].isna()].drop(columns=['score'])\n",
    "X_predict = df[df['score'].isna()].drop(columns=['score'])\n",
    "y = df[~df['score'].isna()].score"
   ],
   "metadata": {
    "execution": {
     "iopub.status.busy": "2023-07-31T08:01:30.193330Z",
     "iopub.execute_input": "2023-07-31T08:01:30.193741Z",
     "iopub.status.idle": "2023-07-31T08:01:30.216140Z",
     "shell.execute_reply.started": "2023-07-31T08:01:30.193700Z",
     "shell.execute_reply": "2023-07-31T08:01:30.214771Z"
    },
    "trusted": true
   },
   "execution_count": 17,
   "outputs": []
  },
  {
   "cell_type": "code",
   "source": [
    "from sklearn.pipeline import Pipeline\n",
    "from sklearn.preprocessing import StandardScaler, OneHotEncoder\n",
    "from sklearn.compose import ColumnTransformer"
   ],
   "metadata": {
    "execution": {
     "iopub.status.busy": "2023-07-31T08:01:30.217714Z",
     "iopub.execute_input": "2023-07-31T08:01:30.218475Z",
     "iopub.status.idle": "2023-07-31T08:01:31.497959Z",
     "shell.execute_reply.started": "2023-07-31T08:01:30.218439Z",
     "shell.execute_reply": "2023-07-31T08:01:31.496914Z"
    },
    "trusted": true
   },
   "execution_count": 18,
   "outputs": [
    {
     "name": "stderr",
     "text": "/opt/conda/lib/python3.10/site-packages/scipy/__init__.py:146: UserWarning: A NumPy version >=1.16.5 and <1.23.0 is required for this version of SciPy (detected version 1.23.5\n  warnings.warn(f\"A NumPy version >={np_minversion} and <{np_maxversion}\"\n",
     "output_type": "stream"
    }
   ]
  },
  {
   "cell_type": "code",
   "source": [
    "num_cols = ['episodes', 'favorites', 'popularity','members']\n",
    "cat_cols = ['status', 'theme', 'demographic', 'genres', 'type', 'studios']"
   ],
   "metadata": {
    "execution": {
     "iopub.status.busy": "2023-07-31T08:01:31.503710Z",
     "iopub.execute_input": "2023-07-31T08:01:31.504211Z",
     "iopub.status.idle": "2023-07-31T08:01:31.510940Z",
     "shell.execute_reply.started": "2023-07-31T08:01:31.504165Z",
     "shell.execute_reply": "2023-07-31T08:01:31.509968Z"
    },
    "trusted": true
   },
   "execution_count": 19,
   "outputs": []
  },
  {
   "cell_type": "code",
   "source": [
    "num_pip = Pipeline([\n",
    "    ('scaler', StandardScaler())\n",
    "])\n",
    "\n",
    "cat_pip = Pipeline([\n",
    "    ('cat_encoder', OneHotEncoder(handle_unknown='ignore', sparse_output=False))\n",
    "])\n",
    "\n",
    "col_tr = ColumnTransformer([\n",
    "    ('num', num_pip, num_cols),\n",
    "    ('cat', cat_pip, cat_cols)\n",
    "])"
   ],
   "metadata": {
    "execution": {
     "iopub.status.busy": "2023-07-31T08:01:31.512329Z",
     "iopub.execute_input": "2023-07-31T08:01:31.512938Z",
     "iopub.status.idle": "2023-07-31T08:01:31.521599Z",
     "shell.execute_reply.started": "2023-07-31T08:01:31.512906Z",
     "shell.execute_reply": "2023-07-31T08:01:31.520655Z"
    },
    "trusted": true
   },
   "execution_count": 20,
   "outputs": []
  },
  {
   "cell_type": "code",
   "source": [
    "X = col_tr.fit_transform(X)\n",
    "X_predict = col_tr.transform(X_predict)"
   ],
   "metadata": {
    "execution": {
     "iopub.status.busy": "2023-07-31T08:01:31.523012Z",
     "iopub.execute_input": "2023-07-31T08:01:31.523395Z",
     "iopub.status.idle": "2023-07-31T08:01:32.444557Z",
     "shell.execute_reply.started": "2023-07-31T08:01:31.523366Z",
     "shell.execute_reply": "2023-07-31T08:01:32.443274Z"
    },
    "trusted": true
   },
   "execution_count": 21,
   "outputs": []
  },
  {
   "cell_type": "markdown",
   "source": [
    "MODEL"
   ],
   "metadata": {}
  },
  {
   "cell_type": "code",
   "source": [
    "from sklearn.ensemble import RandomForestRegressor"
   ],
   "metadata": {
    "execution": {
     "iopub.status.busy": "2023-07-31T08:01:32.446109Z",
     "iopub.execute_input": "2023-07-31T08:01:32.446485Z",
     "iopub.status.idle": "2023-07-31T08:01:32.953439Z",
     "shell.execute_reply.started": "2023-07-31T08:01:32.446447Z",
     "shell.execute_reply": "2023-07-31T08:01:32.952192Z"
    },
    "trusted": true
   },
   "execution_count": 22,
   "outputs": []
  },
  {
   "cell_type": "code",
   "source": [
    "from sklearn.model_selection import train_test_split\n",
    "\n",
    "X_train, X_test, y_train, y_test = train_test_split(X, y, test_size=0.2,random_state=42)"
   ],
   "metadata": {
    "execution": {
     "iopub.status.busy": "2023-07-31T08:01:33.021720Z",
     "iopub.execute_input": "2023-07-31T08:01:33.023210Z",
     "iopub.status.idle": "2023-07-31T08:01:33.160201Z",
     "shell.execute_reply.started": "2023-07-31T08:01:33.023148Z",
     "shell.execute_reply": "2023-07-31T08:01:33.159185Z"
    },
    "trusted": true
   },
   "execution_count": 29,
   "outputs": []
  },
  {
   "cell_type": "code",
   "source": [
    "from sklearn.model_selection import RandomizedSearchCV\n",
    "\n",
    "param_grid = {\n",
    "    'n_estimators' : [100, 250, 500],\n",
    "    'max_depth' : [3, 5, 7, 9],\n",
    "    'min_samples_leaf' : [2, 3],\n",
    "    'min_samples_split' : [2, 3]\n",
    "}"
   ],
   "metadata": {
    "execution": {
     "iopub.status.busy": "2023-07-31T08:31:06.981554Z",
     "iopub.execute_input": "2023-07-31T08:31:06.981988Z",
     "iopub.status.idle": "2023-07-31T08:31:06.989363Z",
     "shell.execute_reply.started": "2023-07-31T08:31:06.981955Z",
     "shell.execute_reply": "2023-07-31T08:31:06.988221Z"
    },
    "trusted": true
   },
   "execution_count": 32,
   "outputs": []
  },
  {
   "cell_type": "code",
   "source": [
    "randcv = RandomizedSearchCV(RandomForestRegressor(), param_grid, cv=5, n_jobs=-1)\n",
    "randcv.fit(X_train, y_train)"
   ],
   "metadata": {
    "execution": {
     "iopub.status.busy": "2023-07-31T08:31:08.886774Z",
     "iopub.execute_input": "2023-07-31T08:31:08.887162Z",
     "iopub.status.idle": "2023-07-31T09:07:55.649153Z",
     "shell.execute_reply.started": "2023-07-31T08:31:08.887132Z",
     "shell.execute_reply": "2023-07-31T09:07:55.647710Z"
    },
    "trusted": true
   },
   "execution_count": 33,
   "outputs": [
    {
     "name": "stderr",
     "text": "/opt/conda/lib/python3.10/site-packages/scipy/__init__.py:146: UserWarning: A NumPy version >=1.16.5 and <1.23.0 is required for this version of SciPy (detected version 1.23.5\n  warnings.warn(f\"A NumPy version >={np_minversion} and <{np_maxversion}\"\n/opt/conda/lib/python3.10/site-packages/scipy/__init__.py:146: UserWarning: A NumPy version >=1.16.5 and <1.23.0 is required for this version of SciPy (detected version 1.23.5\n  warnings.warn(f\"A NumPy version >={np_minversion} and <{np_maxversion}\"\n/opt/conda/lib/python3.10/site-packages/scipy/__init__.py:146: UserWarning: A NumPy version >=1.16.5 and <1.23.0 is required for this version of SciPy (detected version 1.23.5\n  warnings.warn(f\"A NumPy version >={np_minversion} and <{np_maxversion}\"\n/opt/conda/lib/python3.10/site-packages/scipy/__init__.py:146: UserWarning: A NumPy version >=1.16.5 and <1.23.0 is required for this version of SciPy (detected version 1.23.5\n  warnings.warn(f\"A NumPy version >={np_minversion} and <{np_maxversion}\"\n",
     "output_type": "stream"
    },
    {
     "execution_count": 33,
     "output_type": "execute_result",
     "data": {
      "text/plain": "RandomizedSearchCV(cv=5, estimator=RandomForestRegressor(), n_jobs=-1,\n                   param_distributions={'max_depth': [3, 5, 7, 9],\n                                        'min_samples_leaf': [2, 3],\n                                        'min_samples_split': [2, 3],\n                                        'n_estimators': [100, 250, 500]})",
      "text/html": "<style>#sk-container-id-1 {color: black;background-color: white;}#sk-container-id-1 pre{padding: 0;}#sk-container-id-1 div.sk-toggleable {background-color: white;}#sk-container-id-1 label.sk-toggleable__label {cursor: pointer;display: block;width: 100%;margin-bottom: 0;padding: 0.3em;box-sizing: border-box;text-align: center;}#sk-container-id-1 label.sk-toggleable__label-arrow:before {content: \"▸\";float: left;margin-right: 0.25em;color: #696969;}#sk-container-id-1 label.sk-toggleable__label-arrow:hover:before {color: black;}#sk-container-id-1 div.sk-estimator:hover label.sk-toggleable__label-arrow:before {color: black;}#sk-container-id-1 div.sk-toggleable__content {max-height: 0;max-width: 0;overflow: hidden;text-align: left;background-color: #f0f8ff;}#sk-container-id-1 div.sk-toggleable__content pre {margin: 0.2em;color: black;border-radius: 0.25em;background-color: #f0f8ff;}#sk-container-id-1 input.sk-toggleable__control:checked~div.sk-toggleable__content {max-height: 200px;max-width: 100%;overflow: auto;}#sk-container-id-1 input.sk-toggleable__control:checked~label.sk-toggleable__label-arrow:before {content: \"▾\";}#sk-container-id-1 div.sk-estimator input.sk-toggleable__control:checked~label.sk-toggleable__label {background-color: #d4ebff;}#sk-container-id-1 div.sk-label input.sk-toggleable__control:checked~label.sk-toggleable__label {background-color: #d4ebff;}#sk-container-id-1 input.sk-hidden--visually {border: 0;clip: rect(1px 1px 1px 1px);clip: rect(1px, 1px, 1px, 1px);height: 1px;margin: -1px;overflow: hidden;padding: 0;position: absolute;width: 1px;}#sk-container-id-1 div.sk-estimator {font-family: monospace;background-color: #f0f8ff;border: 1px dotted black;border-radius: 0.25em;box-sizing: border-box;margin-bottom: 0.5em;}#sk-container-id-1 div.sk-estimator:hover {background-color: #d4ebff;}#sk-container-id-1 div.sk-parallel-item::after {content: \"\";width: 100%;border-bottom: 1px solid gray;flex-grow: 1;}#sk-container-id-1 div.sk-label:hover label.sk-toggleable__label {background-color: #d4ebff;}#sk-container-id-1 div.sk-serial::before {content: \"\";position: absolute;border-left: 1px solid gray;box-sizing: border-box;top: 0;bottom: 0;left: 50%;z-index: 0;}#sk-container-id-1 div.sk-serial {display: flex;flex-direction: column;align-items: center;background-color: white;padding-right: 0.2em;padding-left: 0.2em;position: relative;}#sk-container-id-1 div.sk-item {position: relative;z-index: 1;}#sk-container-id-1 div.sk-parallel {display: flex;align-items: stretch;justify-content: center;background-color: white;position: relative;}#sk-container-id-1 div.sk-item::before, #sk-container-id-1 div.sk-parallel-item::before {content: \"\";position: absolute;border-left: 1px solid gray;box-sizing: border-box;top: 0;bottom: 0;left: 50%;z-index: -1;}#sk-container-id-1 div.sk-parallel-item {display: flex;flex-direction: column;z-index: 1;position: relative;background-color: white;}#sk-container-id-1 div.sk-parallel-item:first-child::after {align-self: flex-end;width: 50%;}#sk-container-id-1 div.sk-parallel-item:last-child::after {align-self: flex-start;width: 50%;}#sk-container-id-1 div.sk-parallel-item:only-child::after {width: 0;}#sk-container-id-1 div.sk-dashed-wrapped {border: 1px dashed gray;margin: 0 0.4em 0.5em 0.4em;box-sizing: border-box;padding-bottom: 0.4em;background-color: white;}#sk-container-id-1 div.sk-label label {font-family: monospace;font-weight: bold;display: inline-block;line-height: 1.2em;}#sk-container-id-1 div.sk-label-container {text-align: center;}#sk-container-id-1 div.sk-container {/* jupyter's `normalize.less` sets `[hidden] { display: none; }` but bootstrap.min.css set `[hidden] { display: none !important; }` so we also need the `!important` here to be able to override the default hidden behavior on the sphinx rendered scikit-learn.org. See: https://github.com/scikit-learn/scikit-learn/issues/21755 */display: inline-block !important;position: relative;}#sk-container-id-1 div.sk-text-repr-fallback {display: none;}</style><div id=\"sk-container-id-1\" class=\"sk-top-container\"><div class=\"sk-text-repr-fallback\"><pre>RandomizedSearchCV(cv=5, estimator=RandomForestRegressor(), n_jobs=-1,\n                   param_distributions={&#x27;max_depth&#x27;: [3, 5, 7, 9],\n                                        &#x27;min_samples_leaf&#x27;: [2, 3],\n                                        &#x27;min_samples_split&#x27;: [2, 3],\n                                        &#x27;n_estimators&#x27;: [100, 250, 500]})</pre><b>In a Jupyter environment, please rerun this cell to show the HTML representation or trust the notebook. <br />On GitHub, the HTML representation is unable to render, please try loading this page with nbviewer.org.</b></div><div class=\"sk-container\" hidden><div class=\"sk-item sk-dashed-wrapped\"><div class=\"sk-label-container\"><div class=\"sk-label sk-toggleable\"><input class=\"sk-toggleable__control sk-hidden--visually\" id=\"sk-estimator-id-1\" type=\"checkbox\" ><label for=\"sk-estimator-id-1\" class=\"sk-toggleable__label sk-toggleable__label-arrow\">RandomizedSearchCV</label><div class=\"sk-toggleable__content\"><pre>RandomizedSearchCV(cv=5, estimator=RandomForestRegressor(), n_jobs=-1,\n                   param_distributions={&#x27;max_depth&#x27;: [3, 5, 7, 9],\n                                        &#x27;min_samples_leaf&#x27;: [2, 3],\n                                        &#x27;min_samples_split&#x27;: [2, 3],\n                                        &#x27;n_estimators&#x27;: [100, 250, 500]})</pre></div></div></div><div class=\"sk-parallel\"><div class=\"sk-parallel-item\"><div class=\"sk-item\"><div class=\"sk-label-container\"><div class=\"sk-label sk-toggleable\"><input class=\"sk-toggleable__control sk-hidden--visually\" id=\"sk-estimator-id-2\" type=\"checkbox\" ><label for=\"sk-estimator-id-2\" class=\"sk-toggleable__label sk-toggleable__label-arrow\">estimator: RandomForestRegressor</label><div class=\"sk-toggleable__content\"><pre>RandomForestRegressor()</pre></div></div></div><div class=\"sk-serial\"><div class=\"sk-item\"><div class=\"sk-estimator sk-toggleable\"><input class=\"sk-toggleable__control sk-hidden--visually\" id=\"sk-estimator-id-3\" type=\"checkbox\" ><label for=\"sk-estimator-id-3\" class=\"sk-toggleable__label sk-toggleable__label-arrow\">RandomForestRegressor</label><div class=\"sk-toggleable__content\"><pre>RandomForestRegressor()</pre></div></div></div></div></div></div></div></div></div></div>"
     },
     "metadata": {}
    }
   ]
  },
  {
   "cell_type": "code",
   "source": [
    "randcv.score(X_test, y_test)"
   ],
   "metadata": {
    "execution": {
     "iopub.status.busy": "2023-07-31T09:09:23.995992Z",
     "iopub.execute_input": "2023-07-31T09:09:23.996540Z",
     "iopub.status.idle": "2023-07-31T09:09:24.156883Z",
     "shell.execute_reply.started": "2023-07-31T09:09:23.996485Z",
     "shell.execute_reply": "2023-07-31T09:09:24.155727Z"
    },
    "trusted": true
   },
   "execution_count": 34,
   "outputs": [
    {
     "execution_count": 34,
     "output_type": "execute_result",
     "data": {
      "text/plain": "0.6678294965552335"
     },
     "metadata": {}
    }
   ]
  },
  {
   "cell_type": "code",
   "source": [],
   "metadata": {},
   "execution_count": null,
   "outputs": []
  }
 ]
}
